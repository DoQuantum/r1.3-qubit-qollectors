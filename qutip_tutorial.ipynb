{
 "cells": [
  {
   "cell_type": "code",
   "execution_count": 14,
   "metadata": {},
   "outputs": [
    {
     "name": "stdout",
     "output_type": "stream",
     "text": [
      "Requirement already satisfied: qutip in /Library/Frameworks/Python.framework/Versions/3.11/lib/python3.11/site-packages (5.2.1)\n",
      "Requirement already satisfied: numpy>=1.22 in /Library/Frameworks/Python.framework/Versions/3.11/lib/python3.11/site-packages (from qutip) (2.1.2)\n",
      "Requirement already satisfied: scipy!=1.16.0,>=1.9 in /Library/Frameworks/Python.framework/Versions/3.11/lib/python3.11/site-packages (from qutip) (1.14.1)\n",
      "Requirement already satisfied: packaging in /Users/arkay/Library/Python/3.11/lib/python/site-packages (from qutip) (24.1)\n",
      "\n",
      "\u001b[1m[\u001b[0m\u001b[34;49mnotice\u001b[0m\u001b[1;39;49m]\u001b[0m\u001b[39;49m A new release of pip is available: \u001b[0m\u001b[31;49m23.1.2\u001b[0m\u001b[39;49m -> \u001b[0m\u001b[32;49m25.2\u001b[0m\n",
      "\u001b[1m[\u001b[0m\u001b[34;49mnotice\u001b[0m\u001b[1;39;49m]\u001b[0m\u001b[39;49m To update, run: \u001b[0m\u001b[32;49mpip3 install --upgrade pip\u001b[0m\n",
      "Note: you may need to restart the kernel to use updated packages.\n"
     ]
    }
   ],
   "source": [
    "pip install qutip"
   ]
  },
  {
   "cell_type": "code",
   "execution_count": 15,
   "metadata": {},
   "outputs": [
    {
     "name": "stdout",
     "output_type": "stream",
     "text": [
      "Requirement already satisfied: matplotlib in /Library/Frameworks/Python.framework/Versions/3.11/lib/python3.11/site-packages (3.10.7)\n",
      "Requirement already satisfied: contourpy>=1.0.1 in /Library/Frameworks/Python.framework/Versions/3.11/lib/python3.11/site-packages (from matplotlib) (1.3.3)\n",
      "Requirement already satisfied: cycler>=0.10 in /Library/Frameworks/Python.framework/Versions/3.11/lib/python3.11/site-packages (from matplotlib) (0.12.1)\n",
      "Requirement already satisfied: fonttools>=4.22.0 in /Library/Frameworks/Python.framework/Versions/3.11/lib/python3.11/site-packages (from matplotlib) (4.60.1)\n",
      "Requirement already satisfied: kiwisolver>=1.3.1 in /Library/Frameworks/Python.framework/Versions/3.11/lib/python3.11/site-packages (from matplotlib) (1.4.9)\n",
      "Requirement already satisfied: numpy>=1.23 in /Library/Frameworks/Python.framework/Versions/3.11/lib/python3.11/site-packages (from matplotlib) (2.1.2)\n",
      "Requirement already satisfied: packaging>=20.0 in /Users/arkay/Library/Python/3.11/lib/python/site-packages (from matplotlib) (24.1)\n",
      "Requirement already satisfied: pillow>=8 in /Library/Frameworks/Python.framework/Versions/3.11/lib/python3.11/site-packages (from matplotlib) (12.0.0)\n",
      "Requirement already satisfied: pyparsing>=3 in /Library/Frameworks/Python.framework/Versions/3.11/lib/python3.11/site-packages (from matplotlib) (3.2.5)\n",
      "Requirement already satisfied: python-dateutil>=2.7 in /Users/arkay/Library/Python/3.11/lib/python/site-packages (from matplotlib) (2.9.0.post0)\n",
      "Requirement already satisfied: six>=1.5 in /Users/arkay/Library/Python/3.11/lib/python/site-packages (from python-dateutil>=2.7->matplotlib) (1.16.0)\n",
      "\n",
      "\u001b[1m[\u001b[0m\u001b[34;49mnotice\u001b[0m\u001b[1;39;49m]\u001b[0m\u001b[39;49m A new release of pip is available: \u001b[0m\u001b[31;49m23.1.2\u001b[0m\u001b[39;49m -> \u001b[0m\u001b[32;49m25.2\u001b[0m\n",
      "\u001b[1m[\u001b[0m\u001b[34;49mnotice\u001b[0m\u001b[1;39;49m]\u001b[0m\u001b[39;49m To update, run: \u001b[0m\u001b[32;49mpip3 install --upgrade pip\u001b[0m\n",
      "Note: you may need to restart the kernel to use updated packages.\n"
     ]
    }
   ],
   "source": [
    "pip install matplotlib"
   ]
  },
  {
   "cell_type": "code",
   "execution_count": 17,
   "metadata": {},
   "outputs": [],
   "source": [
    "import numpy as np\n",
    "from pylab import *\n",
    "import matplotlib.pyplot as plt\n",
    "from qutip import *\n",
    "import math"
   ]
  },
  {
   "cell_type": "code",
   "execution_count": 18,
   "metadata": {},
   "outputs": [
    {
     "name": "stdout",
     "output_type": "stream",
     "text": [
      "1. Pauli-X Matrix: Quantum object: dims=[[2], [2]], shape=(2, 2), type='oper', dtype=CSR, isherm=True\n",
      "Qobj data =\n",
      "[[0. 1.]\n",
      " [1. 0.]] \n",
      "\n",
      "2. Pauli-Y Matrix: Quantum object: dims=[[2], [2]], shape=(2, 2), type='oper', dtype=CSR, isherm=True\n",
      "Qobj data =\n",
      "[[0.+0.j 0.-1.j]\n",
      " [0.+1.j 0.+0.j]] \n",
      "\n",
      "3. Pauli-Z Matrix: Quantum object: dims=[[2], [2]], shape=(2, 2), type='oper', dtype=CSR, isherm=True\n",
      "Qobj data =\n",
      "[[ 1.  0.]\n",
      " [ 0. -1.]] \n",
      "\n"
     ]
    }
   ],
   "source": [
    "X = sigmax() #Sigma X\n",
    "Y = sigmay() #Sigma Y\n",
    "Z = sigmaz() #Sigma Z\n",
    "\n",
    "for number, (name, gate) in enumerate(zip([\"X\", \"Y\", \"Z\"], [X, Y, Z]), start = 1):\n",
    "  print(f\"{number}. Pauli-{name} Matrix: {gate} \\n\")"
   ]
  },
  {
   "cell_type": "code",
   "execution_count": 19,
   "metadata": {},
   "outputs": [
    {
     "name": "stdout",
     "output_type": "stream",
     "text": [
      "X2 Matrix: Quantum object: dims=[[2], [2]], shape=(2, 2), type='oper', dtype=CSR, isherm=True\n",
      "Qobj data =\n",
      "[[1. 0.]\n",
      " [0. 1.]]\n",
      "\n",
      "X3 Matrix: Quantum object: dims=[[2], [2]], shape=(2, 2), type='oper', dtype=CSR, isherm=True\n",
      "Qobj data =\n",
      "[[1. 0.]\n",
      " [0. 1.]]\n",
      "\n"
     ]
    }
   ],
   "source": [
    "# Various ways to compute matrices by each other (We are using the Pauli-X operator)\n",
    "X2 = X ** 2\n",
    "X3 = X * X\n",
    "\n",
    "for variable, multiplication in zip ([\"X2\", \"X3\"], [X2, X3]):\n",
    "  print(f\"{variable} Matrix: {multiplication}\\n\")"
   ]
  },
  {
   "cell_type": "code",
   "execution_count": 20,
   "metadata": {},
   "outputs": [
    {
     "name": "stdout",
     "output_type": "stream",
     "text": [
      "1. (X x X) Matrix: Quantum object: dims=[[2], [2]], shape=(2, 2), type='oper', dtype=CSR, isherm=True\n",
      "Qobj data =\n",
      "[[1. 0.]\n",
      " [0. 1.]]\n",
      "\n",
      "2. (X x Y) Matrix: Quantum object: dims=[[2], [2]], shape=(2, 2), type='oper', dtype=CSR, isherm=False\n",
      "Qobj data =\n",
      "[[0.+1.j 0.+0.j]\n",
      " [0.+0.j 0.-1.j]]\n",
      "\n",
      "3. (X x Z) Matrix: Quantum object: dims=[[2], [2]], shape=(2, 2), type='oper', dtype=CSR, isherm=False\n",
      "Qobj data =\n",
      "[[ 0. -1.]\n",
      " [ 1.  0.]]\n",
      "\n",
      "4. (Y x X) Matrix: Quantum object: dims=[[2], [2]], shape=(2, 2), type='oper', dtype=CSR, isherm=False\n",
      "Qobj data =\n",
      "[[0.-1.j 0.+0.j]\n",
      " [0.+0.j 0.+1.j]]\n",
      "\n",
      "5. (Y x Y) Matrix: Quantum object: dims=[[2], [2]], shape=(2, 2), type='oper', dtype=CSR, isherm=True\n",
      "Qobj data =\n",
      "[[1. 0.]\n",
      " [0. 1.]]\n",
      "\n",
      "6. (Y x Z) Matrix: Quantum object: dims=[[2], [2]], shape=(2, 2), type='oper', dtype=CSR, isherm=False\n",
      "Qobj data =\n",
      "[[0.+0.j 0.+1.j]\n",
      " [0.+1.j 0.+0.j]]\n",
      "\n",
      "7. (Z x X) Matrix: Quantum object: dims=[[2], [2]], shape=(2, 2), type='oper', dtype=CSR, isherm=False\n",
      "Qobj data =\n",
      "[[ 0.  1.]\n",
      " [-1.  0.]]\n",
      "\n",
      "8. (Z x Y) Matrix: Quantum object: dims=[[2], [2]], shape=(2, 2), type='oper', dtype=CSR, isherm=False\n",
      "Qobj data =\n",
      "[[0.+0.j 0.-1.j]\n",
      " [0.-1.j 0.+0.j]]\n",
      "\n",
      "9. (Z x Z) Matrix: Quantum object: dims=[[2], [2]], shape=(2, 2), type='oper', dtype=CSR, isherm=True\n",
      "Qobj data =\n",
      "[[1. 0.]\n",
      " [0. 1.]]\n",
      "\n"
     ]
    }
   ],
   "source": [
    "#Computing the X, Y, Z matrices by each other\n",
    "gates_representations = [(\"X\", X), (\"Y\", Y), (\"Z\", Z)]\n",
    "number = 1\n",
    "\n",
    "for name1, gate1 in gates_representations:\n",
    "  for name2, gate2 in gates_representations:\n",
    "    print(f\"{number}. ({name1} x {name2}) Matrix: {gate1 * gate2}\\n\")\n",
    "    number += 1"
   ]
  },
  {
   "cell_type": "code",
   "execution_count": 21,
   "metadata": {},
   "outputs": [
    {
     "name": "stdout",
     "output_type": "stream",
     "text": [
      "Quantum object: dims=[[2], [2]], shape=(2, 2), type='oper', dtype=CSR, isherm=False\n",
      "Qobj data =\n",
      "[[0.+2.j 0.+0.j]\n",
      " [0.+0.j 0.-2.j]]\n",
      "\n",
      "Quantum object: dims=[[2], [2]], shape=(2, 2), type='oper', dtype=CSR, isherm=True\n",
      "Qobj data =\n",
      "[[0. 0.]\n",
      " [0. 0.]]\n",
      "\n",
      "Quantum object: dims=[[1], [2]], shape=(1, 2), type='bra', dtype=Dense\n",
      "Qobj data =\n",
      "[[0. 1.]]\n",
      "\n",
      "Quantum object: dims=[[2], [1]], shape=(2, 1), type='ket', dtype=Dense\n",
      "Qobj data =\n",
      "[[0.]\n",
      " [1.]]\n",
      "\n"
     ]
    }
   ],
   "source": [
    "#Commutativity\n",
    "C1 = commutator(X, Y, 'normal') #XY - YX\n",
    "C2 = commutator(X, Y, 'anti') #XY + YX\n",
    "\n",
    "print(f\"{C1}\\n\")\n",
    "print(f\"{C2}\\n\")\n",
    "\n",
    "#Horizontal Matrix\n",
    "horizontal_matrix = Qobj([[0 , 1]])\n",
    "\n",
    "#Vertical Matrix\n",
    "vertical_matrix = Qobj([[0], [1]])\n",
    "\n",
    "print(f\"{horizontal_matrix}\\n\")\n",
    "print(f\"{vertical_matrix}\\n\")"
   ]
  },
  {
   "cell_type": "code",
   "execution_count": 22,
   "metadata": {},
   "outputs": [
    {
     "name": "stdout",
     "output_type": "stream",
     "text": [
      "Quantum object: dims=[[2, 2], [2, 2]], shape=(4, 4), type='oper', dtype=Dense, isherm=True\n",
      "Qobj data =\n",
      "[[ 0.5  0.5  0.5  0.5]\n",
      " [ 0.5 -0.5  0.5 -0.5]\n",
      " [ 0.5  0.5 -0.5 -0.5]\n",
      " [ 0.5 -0.5 -0.5  0.5]]\n"
     ]
    }
   ],
   "source": [
    "H = Qobj([[1/sqrt(2), 1/sqrt(2)], [1/sqrt(2), -1/sqrt(2)]]) #Hadamard Gate\n",
    "print(tensor(H, H))"
   ]
  },
  {
   "cell_type": "markdown",
   "metadata": {},
   "source": [
    "## Qu-Quarts"
   ]
  },
  {
   "cell_type": "code",
   "execution_count": 23,
   "metadata": {},
   "outputs": [
    {
     "name": "stdout",
     "output_type": "stream",
     "text": [
      "Ququart basis states:\n",
      "\n",
      "|00⟩ = Quantum object: dims=[[1], [2, 2]], shape=(1, 4), type='bra', dtype=Dense\n",
      "Qobj data =\n",
      "[[1. 0. 0. 0.]]\n",
      "|01⟩ = Quantum object: dims=[[1], [2, 2]], shape=(1, 4), type='bra', dtype=Dense\n",
      "Qobj data =\n",
      "[[0. 1. 0. 0.]]\n",
      "|10⟩ = Quantum object: dims=[[1], [2, 2]], shape=(1, 4), type='bra', dtype=Dense\n",
      "Qobj data =\n",
      "[[0. 0. 1. 0.]]\n",
      "|11⟩ = Quantum object: dims=[[1], [2, 2]], shape=(1, 4), type='bra', dtype=Dense\n",
      "Qobj data =\n",
      "[[0. 0. 0. 1.]]\n"
     ]
    }
   ],
   "source": [
    "# Define single qubit basis states\n",
    "qubit_0 = basis(2, 0)  # |0⟩\n",
    "qubit_1 = basis(2, 1)  # |1⟩\n",
    "\n",
    "# Create the 4 basis states of the ququart\n",
    "ququart_00 = tensor(qubit_0, qubit_0)  # |00⟩\n",
    "ququart_01 = tensor(qubit_0, qubit_1)  # |01⟩\n",
    "ququart_10 = tensor(qubit_1, qubit_0)  # |10⟩\n",
    "ququart_11 = tensor(qubit_1, qubit_1)  # |11⟩\n",
    "\n",
    "print(\"Ququart basis states:\\n\")\n",
    "for i, state in enumerate([ququart_00, ququart_01, ququart_10, ququart_11]):\n",
    "    print(f\"|{i:02b}⟩ = {state.dag()}\")"
   ]
  },
  {
   "cell_type": "code",
   "execution_count": 24,
   "metadata": {},
   "outputs": [
    {
     "name": "stdout",
     "output_type": "stream",
     "text": [
      "Quantum object: dims=[[1], [4]], shape=(1, 4), type='bra', dtype=Dense\n",
      "Qobj data =\n",
      "[[1. 0. 1. 0.]]\n",
      "Quantum object: dims=[[4], [1]], shape=(4, 1), type='ket', dtype=Dense\n",
      "Qobj data =\n",
      "[[1.]\n",
      " [1.]\n",
      " [0.]\n",
      " [0.]]\n",
      "\n",
      "Inner Product: (1+0j)\n",
      "\n",
      "Outer Product: Quantum object: dims=[[4], [4]], shape=(4, 4), type='oper', dtype=CSR, isherm=False\n",
      "Qobj data =\n",
      "[[1. 0. 1. 0.]\n",
      " [1. 0. 1. 0.]\n",
      " [0. 0. 0. 0.]\n",
      " [0. 0. 0. 0.]]\n"
     ]
    }
   ],
   "source": [
    "#Making a QuQuart\n",
    "\n",
    "quart_state1 = Qobj([[1, 0, 1, 0]]) # |bra>\n",
    "quart_state2 = Qobj([[1, 1, 0, 0]]).trans() # <ket|\n",
    "\n",
    "\n",
    "print(quart_state1)\n",
    "print(quart_state2)\n",
    "\n",
    "print(f\"\\nInner Product: {quart_state1 * quart_state2}\")\n",
    "print(f\"\\nOuter Product: {quart_state2 * quart_state1}\")"
   ]
  }
 ],
 "metadata": {
  "kernelspec": {
   "display_name": "base",
   "language": "python",
   "name": "python3"
  },
  "language_info": {
   "codemirror_mode": {
    "name": "ipython",
    "version": 3
   },
   "file_extension": ".py",
   "mimetype": "text/x-python",
   "name": "python",
   "nbconvert_exporter": "python",
   "pygments_lexer": "ipython3",
   "version": "3.11.4"
  },
  "orig_nbformat": 4
 },
 "nbformat": 4,
 "nbformat_minor": 2
}
