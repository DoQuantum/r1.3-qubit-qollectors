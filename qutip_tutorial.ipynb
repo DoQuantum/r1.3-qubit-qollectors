{
 "cells": [
  {
   "cell_type": "code",
   "execution_count": null,
   "metadata": {},
   "outputs": [],
   "source": [
    "pip install qutip"
   ]
  },
  {
   "cell_type": "code",
   "execution_count": null,
   "metadata": {},
   "outputs": [],
   "source": [
    "pip install matplotlib"
   ]
  },
  {
   "cell_type": "code",
   "execution_count": null,
   "metadata": {},
   "outputs": [],
   "source": [
    "import numpy as np\n",
    "from pylab import *\n",
    "import matplotlib.pyplot as plt\n",
    "from qutip import *\n",
    "import math"
   ]
  },
  {
   "cell_type": "code",
   "execution_count": null,
   "metadata": {},
   "outputs": [],
   "source": [
    "X = sigmax() #Sigma X\n",
    "Y = sigmay() #Sigma Y\n",
    "Z = sigmaz() #Sigma Z\n",
    "\n",
    "for number, (name, gate) in enumerate(zip([\"X\", \"Y\", \"Z\"], [X, Y, Z]), start = 1):\n",
    "  print(f\"{number}. Pauli-{name} Matrix: {gate} \\n\")"
   ]
  },
  {
   "cell_type": "code",
   "execution_count": null,
   "metadata": {},
   "outputs": [],
   "source": [
    "# Various ways to compute matrices by each other (We are using the Pauli-X operator)\n",
    "X2 = X ** 2\n",
    "X3 = X * X\n",
    "\n",
    "for variable, multiplication in zip ([\"X2\", \"X3\"], [X2, X3]):\n",
    "  print(f\"{variable} Matrix: {multiplication}\\n\")"
   ]
  },
  {
   "cell_type": "code",
   "execution_count": null,
   "metadata": {},
   "outputs": [],
   "source": [
    "#Computing the X, Y, Z matrices by each other\n",
    "gates_representations = [(\"X\", X), (\"Y\", Y), (\"Z\", Z)]\n",
    "number = 1\n",
    "\n",
    "for name1, gate1 in gates_representations:\n",
    "  for name2, gate2 in gates_representations:\n",
    "    print(f\"{number}. ({name1} x {name2}) Matrix: {gate1 * gate2}\\n\")\n",
    "    number += 1"
   ]
  },
  {
   "cell_type": "code",
   "execution_count": null,
   "metadata": {},
   "outputs": [],
   "source": [
    "#Commutativity\n",
    "C1 = commutator(X, Y, 'normal') #XY - YX\n",
    "C2 = commutator(X, Y, 'anti') #XY + YX\n",
    "\n",
    "print(f\"{C1}\\n\")\n",
    "print(f\"{C2}\\n\")\n",
    "\n",
    "#Horizontal Matrix\n",
    "horizontal_matrix = Qobj([[0 , 1]])\n",
    "\n",
    "#Vertical Matrix\n",
    "vertical_matrix = Qobj([[0], [1]])\n",
    "\n",
    "print(f\"{horizontal_matrix}\\n\")\n",
    "print(f\"{vertical_matrix}\\n\")"
   ]
  },
  {
   "cell_type": "code",
   "execution_count": null,
   "metadata": {},
   "outputs": [],
   "source": [
    "H = Qobj([[1/sqrt(2), 1/sqrt(2)], [1/sqrt(2), -1/sqrt(2)]]) #Hadamard Gate\n",
    "print(tensor(H, H))"
   ]
  },
  {
   "cell_type": "markdown",
   "metadata": {},
   "source": [
    "## Qu-Quarts"
   ]
  },
  {
   "cell_type": "code",
   "execution_count": null,
   "metadata": {},
   "outputs": [],
   "source": [
    "# Define single qubit basis states\n",
    "qubit_0 = basis(2, 0)  # |0⟩\n",
    "qubit_1 = basis(2, 1)  # |1⟩\n",
    "\n",
    "# Create the 4 basis states of the ququart\n",
    "ququart_00 = tensor(qubit_0, qubit_0)  # |00⟩\n",
    "ququart_01 = tensor(qubit_0, qubit_1)  # |01⟩\n",
    "ququart_10 = tensor(qubit_1, qubit_0)  # |10⟩\n",
    "ququart_11 = tensor(qubit_1, qubit_1)  # |11⟩\n",
    "\n",
    "print(\"Ququart basis states:\\n\")\n",
    "for i, state in enumerate([ququart_00, ququart_01, ququart_10, ququart_11]):\n",
    "    print(f\"|{i:02b}⟩ = {state.dag()}\")"
   ]
  },
  {
   "cell_type": "code",
   "execution_count": null,
   "metadata": {},
   "outputs": [],
   "source": [
    "#Making a QuQuart\n",
    "\n",
    "quart_state1 = Qobj([[1, 0, 1, 0]]) # |bra>\n",
    "quart_state2 = Qobj([[1, 1, 0, 0]]).trans() # <ket|\n",
    "\n",
    "\n",
    "print(quart_state1)\n",
    "print(quart_state2)\n",
    "\n",
    "print(f\"\\nInner Product: {quart_state1 * quart_state2}\")\n",
    "print(f\"\\nOuter Product: {quart_state2 * quart_state1}\")"
   ]
  }
 ],
 "metadata": {
  "kernelspec": {
   "display_name": "base",
   "language": "python",
   "name": "python3"
  },
  "language_info": {
   "codemirror_mode": {
    "name": "ipython",
    "version": 3
   },
   "file_extension": ".py",
   "mimetype": "text/x-python",
   "name": "python",
   "nbconvert_exporter": "python",
   "pygments_lexer": "ipython3",
   "version": "3.11.4"
  },
  "orig_nbformat": 4
 },
 "nbformat": 4,
 "nbformat_minor": 2
}
